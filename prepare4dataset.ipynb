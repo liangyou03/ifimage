{
 "cells": [
  {
   "cell_type": "code",
   "execution_count": 1,
   "id": "7052e325",
   "metadata": {},
   "outputs": [
    {
     "name": "stderr",
     "output_type": "stream",
     "text": [
      "auto.py (21): IProgress not found. Please update jupyter and ipywidgets. See https://ipywidgets.readthedocs.io/en/stable/user_install.html\n"
     ]
    }
   ],
   "source": [
    "import importlib\n",
    "import ifimage_tools\n",
    "importlib.reload(ifimage_tools)\n",
    "import pandas as pd\n",
    "import warnings"
   ]
  },
  {
   "cell_type": "code",
   "execution_count": 6,
   "id": "8c23b2db",
   "metadata": {},
   "outputs": [],
   "source": [
    "\n",
    "import os\n",
    "import numpy as np\n",
    "from stardist.matching import matching\n",
    "from ifimage_tools import IfImageDataset\n",
    "dataset = IfImageDataset(\n",
    "    image_dir='processed_dataset/images',\n",
    "    nuclei_masks_dir='processed_dataset/masks',\n",
    "    cell_masks_dir='processed_dataset/masks',\n",
    "    manual_cell_counts={}\n",
    ")\n",
    "\n",
    "dataset.load_data()"
   ]
  },
  {
   "cell_type": "code",
   "execution_count": 11,
   "id": "b32de739",
   "metadata": {},
   "outputs": [
    {
     "data": {
      "text/plain": [
       "87"
      ]
     },
     "execution_count": 11,
     "metadata": {},
     "output_type": "execute_result"
    }
   ],
   "source": [
    "i=0\n",
    "for sample_id, sample in dataset.samples.items():\n",
    "    if sample.dapi_multi_mask is None:\n",
    "        i= i +1\n",
    "i"
   ]
  },
  {
   "cell_type": "code",
   "execution_count": null,
   "id": "1eadb67d",
   "metadata": {},
   "outputs": [],
   "source": []
  }
 ],
 "metadata": {
  "kernelspec": {
   "display_name": "cellpose",
   "language": "python",
   "name": "python3"
  },
  "language_info": {
   "codemirror_mode": {
    "name": "ipython",
    "version": 3
   },
   "file_extension": ".py",
   "mimetype": "text/x-python",
   "name": "python",
   "nbconvert_exporter": "python",
   "pygments_lexer": "ipython3",
   "version": "3.9.19"
  }
 },
 "nbformat": 4,
 "nbformat_minor": 5
}

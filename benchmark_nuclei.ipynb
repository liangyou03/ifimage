{
 "cells": [
  {
   "cell_type": "code",
   "execution_count": 1,
   "id": "08092063",
   "metadata": {},
   "outputs": [
    {
     "name": "stdout",
     "output_type": "stream",
     "text": [
      "\n",
      "\n",
      "Welcome to CellposeSAM, cellpose v\n",
      "cellpose version: \t4.0.4 \n",
      "platform:       \tlinux \n",
      "python version: \t3.10.16 \n",
      "torch version:  \t2.7.0+cu126! The neural network component of\n",
      "CPSAM is much larger than in previous versions and CPU excution is slow. \n",
      "We encourage users to use GPU/MPS if available. \n",
      "\n",
      "\n"
     ]
    },
    {
     "name": "stderr",
     "output_type": "stream",
     "text": [
      "2025-06-07 04:54:47.681079: I tensorflow/core/util/port.cc:153] oneDNN custom operations are on. You may see slightly different numerical results due to floating-point round-off errors from different computation orders. To turn them off, set the environment variable `TF_ENABLE_ONEDNN_OPTS=0`.\n",
      "2025-06-07 04:54:47.750752: I tensorflow/core/platform/cpu_feature_guard.cc:210] This TensorFlow binary is optimized to use available CPU instructions in performance-critical operations.\n",
      "To enable the following instructions: AVX2 AVX512F AVX512_VNNI FMA, in other operations, rebuild TensorFlow with the appropriate compiler flags.\n",
      "2025-06-07 04:54:50.147251: I tensorflow/core/util/port.cc:153] oneDNN custom operations are on. You may see slightly different numerical results due to floating-point round-off errors from different computation orders. To turn them off, set the environment variable `TF_ENABLE_ONEDNN_OPTS=0`.\n"
     ]
    }
   ],
   "source": [
    "import importlib\n",
    "import ifimage_tools\n",
    "importlib.reload(ifimage_tools)\n",
    "import pandas as pd\n",
    "import warnings\n",
    "import pickle"
   ]
  },
  {
   "cell_type": "code",
   "execution_count": 3,
   "id": "5d9a6566",
   "metadata": {},
   "outputs": [],
   "source": [
    "import os\n",
    "import numpy as np\n",
    "from stardist.matching import matching\n",
    "image_dir = \"Reorgnized Ground Truth\"\n",
    "masks_dir = \"Reorgnized Ground Truth/mask\"\n",
    "dataset = ifimage_tools.IfImageDataset(image_dir, masks_dir, {})\n",
    "dataset.load_data()\n",
    "\n",
    "old_version_sample_ids = [\"6390\", \"8408\", \"8406\", \"8405v2\", \"8405\", \"8407\"]\n",
    "for sample_id in old_version_sample_ids:\n",
    "    if sample_id in dataset.samples:\n",
    "        del dataset.samples[sample_id]"
   ]
  },
  {
   "cell_type": "code",
   "execution_count": null,
   "id": "a3bb0952",
   "metadata": {},
   "outputs": [
    {
     "name": "stderr",
     "output_type": "stream",
     "text": [
      "channels deprecated in v4.0.1+. If data contain more than 3 channels, only the first 3 channels will be used\n"
     ]
    },
    {
     "name": "stdout",
     "output_type": "stream",
     "text": [
      "[OK] Sample 5803: Applied cellposeSAM\n",
      "Saved cellposeSAM → mask/5803/cellposeSAM.npy\n"
     ]
    },
    {
     "name": "stderr",
     "output_type": "stream",
     "text": [
      "channels deprecated in v4.0.1+. If data contain more than 3 channels, only the first 3 channels will be used\n"
     ]
    }
   ],
   "source": [
    "output_root = \"mask\"\n",
    "os.makedirs(output_root, exist_ok=True)\n",
    "\n",
    "for sample_id, sample in dataset.samples.items():\n",
    "    # 跑 nucleus segmentation pipeline\n",
    "    sample.apply_nuc_pipeline()\n",
    "    \n",
    "    # 给每个 sample 创建自己的子文件夹：mask/<sample_id>/\n",
    "    sample_dir = os.path.join(output_root, sample_id)\n",
    "    os.makedirs(sample_dir, exist_ok=True)\n",
    "    \n",
    "    # 遍历 sample.masks，把不为空的 mask 存成 .npy\n",
    "    for mask_name, mask_array in sample.masks.items():\n",
    "        if mask_array is None:\n",
    "            continue\n",
    "        out_path = os.path.join(sample_dir, f\"{mask_name}.npy\")\n",
    "        np.save(out_path, mask_array)\n",
    "        print(f\"Saved {mask_name} → {out_path}\")"
   ]
  },
  {
   "cell_type": "code",
   "execution_count": null,
   "id": "e9989c1c",
   "metadata": {},
   "outputs": [],
   "source": []
  }
 ],
 "metadata": {
  "kernelspec": {
   "display_name": "ifimage",
   "language": "python",
   "name": "python3"
  },
  "language_info": {
   "codemirror_mode": {
    "name": "ipython",
    "version": 3
   },
   "file_extension": ".py",
   "mimetype": "text/x-python",
   "name": "python",
   "nbconvert_exporter": "python",
   "pygments_lexer": "ipython3",
   "version": "3.10.16"
  }
 },
 "nbformat": 4,
 "nbformat_minor": 5
}
